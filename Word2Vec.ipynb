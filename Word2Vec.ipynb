{
 "cells": [
  {
   "cell_type": "code",
   "execution_count": 1,
   "metadata": {
    "collapsed": false
   },
   "outputs": [
    {
     "name": "stdout",
     "output_type": "stream",
     "text": [
      "The history saving thread hit an unexpected error (DatabaseError('database disk image is malformed',)).History will not be written to the database.\n"
     ]
    }
   ],
   "source": [
    "import numpy as np\n",
    "import tensorflow as tf\n",
    "import utils"
   ]
  },
  {
   "cell_type": "code",
   "execution_count": 2,
   "metadata": {
    "collapsed": false
   },
   "outputs": [],
   "source": [
    "#打开wiki数据集\n",
    "with open('.//wiki.txt') as f:\n",
    "    words = utils.preprocess(f.read())  #获得分割后的单词，如果不做 utils.preprocess将得到 26个字母加其他符号\n",
    "    "
   ]
  },
  {
   "cell_type": "code",
   "execution_count": 3,
   "metadata": {
    "collapsed": false
   },
   "outputs": [
    {
     "name": "stdout",
     "output_type": "stream",
     "text": [
      "总的单词数: 16680599\n",
      "唯一单词数: 63641\n"
     ]
    }
   ],
   "source": [
    "print('总的单词数:',len(words))\n",
    "print('唯一单词数:',len(set(words)))"
   ]
  },
  {
   "cell_type": "code",
   "execution_count": 4,
   "metadata": {
    "collapsed": false
   },
   "outputs": [],
   "source": [
    "# 创建语料库字典，按照文字出现频率编号\n",
    "word_to_int, int_to_word = utils.create_lookup_tables(words)\n",
    "int_words = [word_to_int[word] for word in words]\n"
   ]
  },
  {
   "cell_type": "code",
   "execution_count": 6,
   "metadata": {
    "collapsed": false
   },
   "outputs": [
    {
     "name": "stdout",
     "output_type": "stream",
     "text": [
      "of\n",
      "24\n"
     ]
    }
   ],
   "source": [
    "#验证文字编号\n",
    "print(int_to_word[1])\n",
    "print(word_to_int['on'])"
   ]
  },
  {
   "cell_type": "code",
   "execution_count": 7,
   "metadata": {
    "collapsed": false
   },
   "outputs": [
    {
     "name": "stdout",
     "output_type": "stream",
     "text": [
      "训练的单词数为： 1955405\n"
     ]
    }
   ],
   "source": [
    "#实现Mikolov下采样\n",
    "from collections import Counter\n",
    "import random\n",
    "\n",
    "threshold = 1e-6 #1e-4 到 1e-6之间\n",
    "word_counts = Counter(int_words) #  Counter({0: 1061396, 1: 593677, 2: 416629, 3: 411764......}\n",
    "total_count = len(int_words)     # 16680599\n",
    "freqs = {word: count/total_count for word, count in word_counts.items()} #{0: 0.06363056866243233, 1: 0.035590868169662254.....}\n",
    "p_drop = {word: 1 - np.sqrt(threshold/freqs[word]) for word in word_counts} #子采样公式\n",
    "\n",
    "#如果对于当前的计算单词，取一个随机数，当随机数 小于 < 1 - (P抛弃概率) ，则把这个单词作为训练数据。\n",
    "train_words = [word for word in int_words if random.random() < (1 - p_drop[word])]\n",
    "print('训练的单词数为：',len(train_words))\n",
    "#注意用过滤后的数据训练出来的词向量，依然可以表示所有词汇（权重的数量依旧是总的单词数 * 神经元个数），只是过滤的单词生成的词向量与现有词向量之间在距离上没有什么意义。\n"
   ]
  },
  {
   "cell_type": "markdown",
   "metadata": {},
   "source": [
    "## 创建批"
   ]
  },
  {
   "cell_type": "markdown",
   "metadata": {},
   "source": [
    "我们想要从目标中获得的 是抓取我们的输入单词周围窗口 $C$. 的单词，通过get_wordx_labely函数实现。它通过传入一个单词 然后在窗口中你抓取它周围的单词，周围的单词数是随机生成的Rand_No ，在1到窗口+1之间\n"
   ]
  },
  {
   "cell_type": "code",
   "execution_count": 8,
   "metadata": {
    "collapsed": true
   },
   "outputs": [],
   "source": [
    "def get_wordx_labely(words, idx, window_size=5):\n",
    "    ''' 给予窗口，对words中的某个idx的word(X)，给出周围随机数量个单词(Y). '''\n",
    "    #产生一个1 到 窗口+1 的随机数。\n",
    "    Rand_No = np.random.randint(1, window_size+1)\n",
    "    \n",
    "    #单词idx如果是3，Rand_No=2，  就取 3前两个，2两个单词  start= 3-2=1,stop=3+2=5 。\n",
    "    startidx = idx - Rand_No if (idx - Rand_No) > 0 else 0\n",
    "    stopidx =  idx + Rand_No\n",
    "    labely_words = set(words[startidx:idx] + words[idx+1:stopidx+1])\n",
    "    \n",
    "    \n",
    "    return list(labely_words)"
   ]
  },
  {
   "cell_type": "code",
   "execution_count": 18,
   "metadata": {
    "collapsed": false
   },
   "outputs": [
    {
     "name": "stdout",
     "output_type": "stream",
     "text": [
      "['anarchism', 'originated', 'as', 'a', 'term', 'of', 'abuse']\n",
      "{'as', 'term', 'of', 'originated'}\n",
      "16680599\n"
     ]
    },
    {
     "data": {
      "text/plain": [
       "['as', 'term']"
      ]
     },
     "execution_count": 18,
     "metadata": {},
     "output_type": "execute_result"
    }
   ],
   "source": [
    "#验证get_wordx_labely\n",
    "print(words[0:7])\n",
    "print(set(words[1:3] + words[4:6])) #效果为Rand_No=2，idx=3\n",
    "print(len(words))\n",
    "\n",
    "get_wordx_labely(words,3)"
   ]
  },
  {
   "cell_type": "code",
   "execution_count": 19,
   "metadata": {
    "collapsed": true
   },
   "outputs": [],
   "source": [
    "#定义获取batch,batch_size是从words 中获得的一份列表，基于每个batch的 word 生成 x ，和 y\n",
    "def get_batches(words, batch_size, window_size=5):\n",
    "    ''' 生成器生成，word batches ， tuple (inputs, targets) '''\n",
    "    \n",
    "    n_batches = len(words)//batch_size\n",
    "    \n",
    "    # 完整batch\n",
    "    words = words[:n_batches*batch_size]\n",
    "    \n",
    "    for idx in range(0, len(words), batch_size):\n",
    "        x, y = [], []\n",
    "        batch = words[idx:idx+batch_size]\n",
    "        for i in range(len(batch)):\n",
    "            batch_x = batch[i]\n",
    "            batch_y = get_wordx_labely(batch, i, window_size)\n",
    "            y.extend(batch_y)\n",
    "            x.extend([batch_x]*len(batch_y))\n",
    "        yield x, y\n",
    "    \n"
   ]
  },
  {
   "cell_type": "code",
   "execution_count": 20,
   "metadata": {
    "collapsed": false
   },
   "outputs": [
    {
     "name": "stdout",
     "output_type": "stream",
     "text": [
      "batch_size=4 ，window_size=5 考察前两批\n",
      "n_batches数为： 4170149\n",
      "第 1 批\n",
      "idx= 0\n",
      "batch= ['anarchism', 'originated', 'as', 'a'] len(batch)= 4\n",
      "batch_x= anarchism\n",
      "batch_y= ['as', 'originated']\n",
      "batch_x= originated\n",
      "batch_y= ['anarchism', 'as', 'a']\n",
      "batch_x= as\n",
      "batch_y= ['anarchism', 'a', 'originated']\n",
      "batch_x= a\n",
      "batch_y= ['as', 'originated']\n",
      "x= ['anarchism', 'anarchism', 'originated', 'originated', 'originated', 'as', 'as', 'as', 'a', 'a'] y= ['as', 'originated', 'anarchism', 'as', 'a', 'anarchism', 'a', 'originated', 'as', 'originated']\n"
     ]
    }
   ],
   "source": [
    "########验证BATCH 固定设置R=2########\n",
    "def get_wordx_labely(words, idx, window_size=5):\n",
    "    ''' 给予窗口，对words中的某个idx的word(X)，给出周围随机数量个单词(Y). '''\n",
    "    #产生一个1 到 窗口+1 的随机数。\n",
    "    Rand_No = 2\n",
    "    \n",
    "    #单词idx如果是3，Rand_No=2，  就取 3前两个，2两个单词  start= 3-2=1,stop=3+2=5 。\n",
    "    startidx = idx - Rand_No if (idx - Rand_No) > 0 else 0\n",
    "    stopidx =  idx + Rand_No\n",
    "    labely_words = set(words[startidx:idx] + words[idx+1:stopidx+1])\n",
    "    \n",
    "    \n",
    "    return list(labely_words)\n",
    "\n",
    "#########验证BATCH##########################\n",
    "print('batch_size=4 ，window_size=5' ,'考察前两批')\n",
    "batch_size=4\n",
    "n_batches =len(words)//batch_size\n",
    "print('n_batches数为：',n_batches)\n",
    "\n",
    "\n",
    "# 完整batch\n",
    "words = words[:n_batches*batch_size]\n",
    "\n",
    "\n",
    "noi=0\n",
    "window_size=5\n",
    "for idx in range(0, len(words), batch_size):\n",
    "    noi=noi+1\n",
    "    print('第',noi,'批')\n",
    "    print('idx=',idx)\n",
    "    x, y = [], []\n",
    "    batch = words[idx:idx+batch_size]\n",
    "    print('batch=',batch ,'len(batch)=',len(batch))\n",
    "    \n",
    "    \n",
    "    for i in range(len(batch)):\n",
    "        batch_x = batch[i]\n",
    "        print('batch_x=',batch_x)\n",
    "        batch_y = get_wordx_labely(batch, i, window_size)\n",
    "        print('batch_y=',batch_y)\n",
    "        y.extend(batch_y)\n",
    "        x.extend([batch_x]*len(batch_y))\n",
    "    print('x=',x ,'y=',y) \n",
    "    if noi == 1 :\n",
    "            break\n",
    "\n",
    "        \n",
    "\n",
    "\n",
    "\n"
   ]
  },
  {
   "cell_type": "code",
   "execution_count": 21,
   "metadata": {
    "collapsed": true
   },
   "outputs": [],
   "source": [
    "#input 是我们的输入单词编码。\n",
    "train_graph = tf.Graph()\n",
    "with train_graph.as_default():\n",
    "    inputs = tf.placeholder(tf.int32, [None], name='inputs')\n",
    "    labels = tf.placeholder(tf.int32, [None, None], name='labels')"
   ]
  },
  {
   "cell_type": "markdown",
   "metadata": {},
   "source": [
    "## Embedding\n",
    "\n"
   ]
  },
  {
   "cell_type": "markdown",
   "metadata": {
    "collapsed": true
   },
   "source": [
    "embedding 矩阵的大小为：单词数 X 隐藏层神经元个数(embedding 特征数) 。假设有100个单词，10个神经元，将对应100 X 10 的矩阵。训练好以后，当传人一个词对应的编号，将返回一个位于矩阵中对应行的向量。embedding初始可以是 100-300之间值。"
   ]
  },
  {
   "cell_type": "code",
   "execution_count": 22,
   "metadata": {
    "collapsed": false
   },
   "outputs": [],
   "source": [
    "n_vocab = len(int_to_word)\n",
    "n_embedding = 200 # embedding 特征数，也就是 隐藏层神经元个数 \n",
    "with train_graph.as_default():\n",
    "    embedding = tf.Variable(tf.random_uniform((n_vocab, n_embedding), -1, 1)) #一般初始化embedding tensor为 -1,1之间的随机数\n",
    "    #embedding的形状为=(63641, 200)\n",
    "    \n",
    "    #写summary\n",
    "    tf.summary.histogram('embeding_w',embedding)\n",
    "   \n",
    "    \n",
    "    embed = tf.nn.embedding_lookup(embedding, inputs)"
   ]
  },
  {
   "cell_type": "code",
   "execution_count": 23,
   "metadata": {
    "collapsed": false
   },
   "outputs": [
    {
     "name": "stdout",
     "output_type": "stream",
     "text": [
      "[[ 0.06714272 -0.47153854]\n",
      " [ 0.39632273 -0.90652037]\n",
      " [ 0.81146526  0.08813095]\n",
      " [ 0.35289598 -0.04644632]\n",
      " [ 0.96639776  0.31767893]\n",
      " [-0.21888947  0.27795005]\n",
      " [ 0.32654953  0.62284446]\n",
      " [ 0.81638765 -0.88932252]\n",
      " [ 0.57390594 -0.49690986]\n",
      " [-0.3963697   0.10825372]]\n",
      "[[ 0.06714272 -0.47153854]]\n"
     ]
    }
   ],
   "source": [
    "#验证embedding_lookup ，0-9 10个数原来每个数是10个特列列的ONE-HOT，现在变成2个特征\n",
    "import tensorflow as tf\n",
    "import numpy as np\n",
    "\n",
    "test_embedding_w = tf.Variable(tf.random_uniform((10,2), -1, 1))\n",
    "idx = np.array([0,1, 2,3,4,5,6,7,8,9])\n",
    "out = tf.nn.embedding_lookup(test_embedding_w, idx)\n",
    "init = tf.global_variables_initializer()\n",
    "with tf.Session() as sess:\n",
    "    sess.run(init)\n",
    "    print(sess.run(out))\n",
    "    \n",
    "    #-------------下次传人  “1”----------------#\n",
    "    print(sess.run(tf.nn.embedding_lookup(test_embedding_w, np.array([0]))))"
   ]
  },
  {
   "cell_type": "markdown",
   "metadata": {},
   "source": [
    "## 负采样Negative sampling 训练技巧\n",
    "\n"
   ]
  },
  {
   "cell_type": "markdown",
   "metadata": {},
   "source": [
    "现实中由于编码向量有上万个。对于每个单元要使用 softmax 进行预测，但是真实的输出也就是正结果只有一个，其他的为负结果。这样训练起来非常的慢。因此我们可以仅对负结果的一个非常小的子集取样来计算损失，从而获得损失的近似值。这样在更新权重时，我们不是更新所有的权重 ，而是仅更新正的那些权重，和小部分负样本对应的权重。这种技巧叫负采样。tensorflow直接提供一个 tf.nn.sampled_softmax_loss 函数完成负采样\n",
    "\n"
   ]
  },
  {
   "cell_type": "code",
   "execution_count": 24,
   "metadata": {
    "collapsed": false
   },
   "outputs": [],
   "source": [
    "# 设置负样本为100\n",
    "n_sampled = 100\n",
    "with train_graph.as_default():\n",
    "    softmax_w = tf.Variable(tf.truncated_normal((n_vocab, n_embedding), stddev=0.1))\n",
    "    softmax_b = tf.Variable(tf.zeros(n_vocab))\n",
    "    \n",
    "    #############summary###################\n",
    "    tf.summary.histogram('softmax_w',softmax_w)\n",
    "    merged=tf.summary.merge_all()\n",
    "    \n",
    "    ############summary###################\n",
    "    # 计算损失\n",
    "    loss = tf.nn.sampled_softmax_loss(softmax_w, softmax_b, \n",
    "                                      labels, embed,\n",
    "                                      n_sampled, n_vocab)\n",
    "    \n",
    "    cost = tf.reduce_mean(loss)\n",
    "    optimizer = tf.train.AdamOptimizer().minimize(cost)"
   ]
  },
  {
   "cell_type": "code",
   "execution_count": 29,
   "metadata": {
    "collapsed": false,
    "scrolled": true
   },
   "outputs": [
    {
     "name": "stdout",
     "output_type": "stream",
     "text": [
      "第： 1 轮 第  0  批 loss为： 5.30805063248\n"
     ]
    }
   ],
   "source": [
    "import os\n",
    "epochs = 5\n",
    "batch_size = 512\n",
    "window_size = 10\n",
    "\n",
    "with train_graph.as_default():\n",
    "    saver = tf.train.Saver()\n",
    "    \n",
    "    #     logits=tf.add(tf.matmul(embedding,tf.transpose(softmax_w)),softmax_b)\n",
    "    #     outy=tf.nn.softmax(logits=logits)\n",
    "    #     lastout=tf.arg_max(outy,1)\n",
    "    #     print(lastout) \n",
    "\n",
    "\n",
    "    #可选规范化embedding\n",
    "    norm = tf.sqrt(tf.reduce_sum(tf.square(embedding), 1, keep_dims=True)) \n",
    "    normalized_embedding = embedding / norm\n",
    "    \n",
    "    \n",
    "\n",
    "with tf.Session(graph=train_graph) as sess:\n",
    "    iter_no = 0\n",
    "    loss = 0\n",
    "    initv=tf.global_variables_initializer()\n",
    "    ##################################\n",
    "    summary_writer = tf.summary.FileWriter(logdir='d:\\\\tensorlog\\\\',graph=train_graph)\n",
    "    summary_writer.add_graph(sess.graph)\n",
    "    \n",
    "    \n",
    "\n",
    "    sess.run(initv)\n",
    "\n",
    "    for e in range(1, epochs+1):\n",
    "        batches = get_batches(train_words, batch_size, window_size)\n",
    "\n",
    "        for x, y in batches:\n",
    "\n",
    "            feed = {inputs: x,\n",
    "                    labels: np.array(y)[:, None]}\n",
    "            train_loss, _ = sess.run([cost, optimizer], feed_dict=feed)\n",
    "\n",
    "            loss += train_loss\n",
    "\n",
    "            if iter_no % 100 == 0: \n",
    "                print('第：',e, '轮 第 ',iter_no,' 批 loss为：',loss)\n",
    "                loss = 0\n",
    "                ############################\n",
    "                merged_out=sess.run(merged)\n",
    "                summary_writer.add_summary(merged_out,iter_no)\n",
    "                ###########################\n",
    "\n",
    "\n",
    "\n",
    "            iter_no += 1\n",
    "            break\n",
    "          \n",
    "    save_path = saver.save(sess, \"d:\\\\tensorlog\\\\wiki.ckpt\")\n",
    "\n",
    "    normed_embedding = sess.run(normalized_embedding)"
   ]
  },
  {
   "cell_type": "code",
   "execution_count": 30,
   "metadata": {
    "collapsed": false
   },
   "outputs": [
    {
     "name": "stdout",
     "output_type": "stream",
     "text": [
      "训练后矩阵形状为: (63641, 200)\n",
      "训练后矩阵形状为: [[ 0.73052943  0.91380221  0.77104563  0.87625831 -0.47368097 -0.7763052\n",
      "  -0.30299705  0.45957038 -0.15193579 -0.03052874  0.67169029  0.22647841\n",
      "  -0.60843015  0.21916698 -0.04636357  0.68149662  0.74498487  0.40404162\n",
      "   0.46941578 -0.18080074 -0.90756536 -0.89074087 -0.18594158 -0.33434036\n",
      "   0.7771014   0.26212966 -0.07849427  0.44856471 -0.88894039 -0.30359697\n",
      "  -0.18063986 -0.28244576 -0.70551449  0.20099895  0.42131329 -0.00417768\n",
      "  -0.53111529  0.68437856 -0.12798233 -0.74158949  0.12696299  0.725555\n",
      "  -0.62966889 -0.58021194 -0.02607774 -0.95092708  0.97122848  0.00698642\n",
      "   0.31060308 -0.04800085  0.16819359 -0.49154779 -0.7017312  -0.03997652\n",
      "  -0.14549711 -0.28761625  0.020745   -0.11587438  0.9314338  -0.76745319\n",
      "  -0.39148337  0.77269942 -0.55358368 -0.10513102 -0.82035929  0.31001243\n",
      "   0.71661019 -1.00143182  0.54216647 -0.15448983  0.27705395 -0.11806997\n",
      "  -0.05177798 -0.67204458 -0.20675051 -0.46410245  0.46553457  0.53534108\n",
      "  -0.25563952 -0.47729099  0.99497217 -0.6044395  -0.60824662 -0.18170014\n",
      "   0.57659167 -0.23388748 -0.34402317 -0.51223195 -0.49196839  0.27011877\n",
      "   0.49399969  0.50166005  0.74130422 -0.92864347  0.26439637 -0.99157411\n",
      "   0.39349526  0.42184541 -0.08516859  0.75026113  0.55608946 -0.02294388\n",
      "   0.97940511  0.33524701 -0.21568029 -0.95044869 -0.70630682  0.57731473\n",
      "   0.13540776 -0.5296973   0.4653278   0.05682135 -0.92519307 -0.73828721\n",
      "  -0.47918165  0.72924572  0.54211348 -0.59742284 -0.93192375  0.45191902\n",
      "  -0.93462765 -0.52269155 -0.50431359 -0.52384531 -0.46632078  0.82790655\n",
      "   0.67514515 -0.41370231  0.02147053  0.83154011 -0.5753305   0.0156376\n",
      "   0.60903984  0.77771264 -0.41596317  0.57077539  0.79414529 -0.98830044\n",
      "  -0.64747185  0.20076938 -0.8961494  -0.15060118  0.54924881 -0.53496999\n",
      "   0.85459542  0.23241329  0.42169228 -0.7021451  -0.28834075  0.81420988\n",
      "  -0.04183989  0.20682164 -0.44105598 -0.74791944 -0.27262503 -0.96445882\n",
      "  -0.74340785  0.81269747 -0.36858785  0.49391523 -0.15176816 -0.0809201\n",
      "   0.13125837 -0.90810651  0.90530103  0.31719878 -0.953269   -0.89997917\n",
      "   0.6753484  -0.39867011 -0.89047509 -0.205345    0.69251305 -0.39122176\n",
      "   0.18160897 -0.10255603  0.28249663 -0.98784065  0.09638629 -0.24951161\n",
      "  -0.67151862 -0.58651769 -0.46134552  0.07998771 -0.46541905  0.71306807\n",
      "   0.33912513  0.9744181   0.81035262  0.3908025  -0.15507954  0.45084393\n",
      "   0.0763775   0.10217752 -0.38893586 -0.50225961 -0.71758759  0.66112536\n",
      "   0.14887694 -0.92764914]\n",
      " [-0.62039256 -0.20583272 -0.01751781 -0.5068202  -0.36786389 -0.48138809\n",
      "   0.54587626 -0.21970797 -0.72972536  0.83336401 -0.55399704 -0.85758972\n",
      "  -0.52411437 -0.64444923 -0.04260874 -0.40983248 -0.68390369  0.54585409\n",
      "  -0.19486308  0.64537358 -0.26874876  0.78732228 -0.280159   -0.06797028\n",
      "  -0.84339809  0.03070116 -0.36747885  0.71675062 -0.9398005   0.53627658\n",
      "  -0.87508726 -0.04062629 -0.09996963 -0.80994821  0.13097811  0.30881262\n",
      "   0.4768796   0.7659874  -0.88286352  0.81044483 -0.27042627  0.53440595\n",
      "   0.9552424   0.01016736 -0.20976067  0.50003099  0.90097928 -0.19345379\n",
      "  -0.49113989  0.40015316  0.67200637  0.98739958  0.33312488  0.14428353\n",
      "   0.2561965   0.81292152 -0.58607173  0.85347557 -0.07270408  0.83004618\n",
      "  -0.07973027 -0.66698718 -0.45269608 -0.51682353 -0.1682663   0.20044637\n",
      "  -0.12345028  0.09046125  0.90745354  0.21700025 -0.17040539 -0.08989167\n",
      "  -0.92249703  0.15572858  0.94629216 -0.56864047  0.55243564 -0.17213726\n",
      "  -0.59513068 -0.85472226  0.58338118 -0.93488169  0.57647514 -0.75144982\n",
      "   0.24357033 -0.58609986 -0.77715373  0.84512734 -0.4860642   0.88121819\n",
      "  -0.8274858   0.2020638  -0.95013928  0.59679914  0.57783175  0.17354226\n",
      "   0.16958237  0.08316112  0.07371211  0.17463994  0.04128838 -0.94826579\n",
      "  -0.20558858 -0.27820182  0.72650933 -0.74772239 -0.49083138 -0.38723207\n",
      "   0.25740242 -0.33341765 -0.94881296  0.76379704  0.43665338  0.23786521\n",
      "  -0.87258577  0.19133997 -0.2418251  -0.21145606  0.19810057  0.96872759\n",
      "   0.83875155 -0.89056468 -0.81739712  0.66683245 -0.36869121 -0.41993713\n",
      "   0.89472437 -0.26915717  0.38390064  0.37522173  0.51449394 -0.60367584\n",
      "   0.48657513  0.88669419  0.21953797  0.99308991 -0.48429179  0.15697455\n",
      "  -0.50602722 -0.28906417 -0.40970564 -0.76869631 -0.80764198 -0.06084228\n",
      "   0.93425536  0.59353852 -0.34854436  0.41304827 -0.18234086 -0.05899405\n",
      "  -0.690588   -0.97445631 -0.81093264  0.36582613 -0.08570194 -0.40383959\n",
      "  -0.21317601 -0.88444233 -0.95915747 -0.35700583  0.70786715 -0.82752013\n",
      "  -0.02857876 -0.37492704 -0.25649834  0.32456589 -0.15637755 -0.19336486\n",
      "  -0.30121064 -0.59849668 -0.41203237  0.17480612 -0.3283267   0.5596807\n",
      "  -0.44752693 -0.97702003 -0.02618814  0.71623325  0.12118316  0.2400353\n",
      "   0.77549267  0.41154933  0.60109115  0.36813521 -0.65472484  0.1663239\n",
      "  -0.18557382  0.37180018 -0.39451218  0.13796258  0.83541036  0.45854664\n",
      "   0.163697    0.16357827  0.16986918 -0.8236835  -0.29376626 -0.7339735\n",
      "  -0.65758419 -0.21728039]]\n"
     ]
    }
   ],
   "source": [
    "#恢复数据\n",
    "with train_graph.as_default():\n",
    "    saver = tf.train.Saver()\n",
    "    \n",
    "\n",
    "\n",
    "with tf.Session(graph=train_graph) as sess:\n",
    "    saver.restore(sess, tf.train.latest_checkpoint('d:\\\\tensorlog'))\n",
    "    embed_out = sess.run(embedding)\n",
    "    \n",
    "print('训练后矩阵形状为:',embed_out.shape)\n",
    "\n",
    "print('训练后矩阵形状为:',embed_out[0:2,:])"
   ]
  },
  {
   "cell_type": "markdown",
   "metadata": {},
   "source": [
    "## 降维显示向量\n"
   ]
  },
  {
   "cell_type": "code",
   "execution_count": 31,
   "metadata": {
    "collapsed": true
   },
   "outputs": [],
   "source": [
    "%matplotlib inline\n",
    "%config InlineBackend.figure_format = 'retina'\n",
    "\n",
    "import matplotlib.pyplot as plt\n",
    "from sklearn.manifold import TSNE"
   ]
  },
  {
   "cell_type": "code",
   "execution_count": 33,
   "metadata": {
    "collapsed": false
   },
   "outputs": [
    {
     "data": {
      "image/png": "[encoded data removed]",
      "text/plain": [
       "<matplotlib.figure.Figure at 0x1a179e10>"
      ]
     },
     "metadata": {
      "image/png": {
       "height": 358,
       "width": 378
      }
     },
     "output_type": "display_data"
    }
   ],
   "source": [
    "test_words = 100\n",
    "tsne = TSNE()\n",
    "embed_tsne = tsne.fit_transform(normed_embedding[:test_words, :]) #对规范化的embedding做TSNE处理\n",
    "#print(embed_tsne)\n",
    "plt.subplots(figsize=(6, 6)) #画布长宽\n",
    "for idx in range(test_words):\n",
    "    plt.scatter(*embed_tsne[idx, :], color='red') #2维度散点图\n",
    "    plt.annotate(int_to_word[idx], (embed_tsne[idx, 0], embed_tsne[idx, 1]))#写入文字"
   ]
  },
  {
   "cell_type": "code",
   "execution_count": 34,
   "metadata": {
    "collapsed": false
   },
   "outputs": [
    {
     "name": "stdout",
     "output_type": "stream",
     "text": [
      "[[ 0.51695013 -0.14181781]\n",
      " [-0.09906435  0.72526383]\n",
      " [-0.90926743  0.33294415]\n",
      " [-0.03497219  0.85729074]\n",
      " [-0.57292962 -0.25392818]\n",
      " [-0.92012215  0.8126533 ]\n",
      " [-0.13679934 -0.71009088]\n",
      " [ 0.8187623   0.43121004]\n",
      " [-0.33569741  0.73010278]\n",
      " [ 0.58891797 -0.75244498]]\n",
      "[[ 0.51695013 -0.14181781]]\n"
     ]
    }
   ],
   "source": [
    "#验证embedding_lookup ，0-9 10个数原来每个数是10个特列列的ONE-HOT，现在变成2个特征\n",
    "import tensorflow as tf\n",
    "import numpy as np\n",
    "\n",
    "embedding = tf.Variable(tf.random_uniform((10,2), -1, 1))\n",
    "idx = np.array([0,1, 2,3,4,5,6,7,8,9])\n",
    "out = tf.nn.embedding_lookup(embedding, idx)\n",
    "init = tf.global_variables_initializer()\n",
    "with tf.Session() as sess:\n",
    "    sess.run(init)\n",
    "    print(sess.run(out))\n",
    "    \n",
    "    #-------------下次传人1----------------#\n",
    "    print(sess.run(tf.nn.embedding_lookup(embedding, np.array([0]))))"
   ]
  },
  {
   "cell_type": "code",
   "execution_count": null,
   "metadata": {
    "collapsed": true
   },
   "outputs": [],
   "source": []
  },
  {
   "cell_type": "code",
   "execution_count": null,
   "metadata": {
    "collapsed": true
   },
   "outputs": [],
   "source": []
  }
 ],
 "metadata": {
  "anaconda-cloud": {},
  "kernelspec": {
   "display_name": "Python [default]",
   "language": "python",
   "name": "python3"
  },
  "language_info": {
   "codemirror_mode": {
    "name": "ipython",
    "version": 3
   },
   "file_extension": ".py",
   "mimetype": "text/x-python",
   "name": "python",
   "nbconvert_exporter": "python",
   "pygments_lexer": "ipython3",
   "version": "3.5.2"
  }
 },
 "nbformat": 4,
 "nbformat_minor": 2
}
